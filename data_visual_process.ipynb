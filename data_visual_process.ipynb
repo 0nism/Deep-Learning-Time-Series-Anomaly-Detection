{
  "nbformat": 4,
  "nbformat_minor": 0,
  "metadata": {
    "colab": {
      "name": "Untitled1.ipynb",
      "version": "0.3.2",
      "provenance": [],
      "collapsed_sections": [],
      "include_colab_link": true
    },
    "kernelspec": {
      "name": "python3",
      "display_name": "Python 3"
    }
  },
  "cells": [
    {
      "cell_type": "markdown",
      "metadata": {
        "id": "view-in-github",
        "colab_type": "text"
      },
      "source": [
        "<a href=\"https://colab.research.google.com/github/swlee23/Deep-Learning-Time-Series-Anomaly-Detection/blob/master/data_visual_process.ipynb\" target=\"_parent\"><img src=\"https://colab.research.google.com/assets/colab-badge.svg\" alt=\"Open In Colab\"/></a>"
      ]
    },
    {
      "cell_type": "code",
      "metadata": {
        "id": "eB0HRPNS61Wc",
        "colab_type": "code",
        "colab": {}
      },
      "source": [
        "            '''Data visualization / preprocess'''"
      ],
      "execution_count": 0,
      "outputs": []
    },
    {
      "cell_type": "code",
      "metadata": {
        "id": "0Qu_hk4E7SEd",
        "colab_type": "code",
        "colab": {}
      },
      "source": [
        "import numpy as np\n",
        "from numpy import array\n",
        "import math\n",
        "import statistics\n",
        "import matplotlib.pyplot as plt\n",
        "import matplotlib.mlab as mlab\n",
        "import matplotlib.dates\n",
        "from  matplotlib.dates import date2num\n",
        "import pandas as pd\n",
        "import scipy.stats as st"
      ],
      "execution_count": 0,
      "outputs": []
    },
    {
      "cell_type": "code",
      "metadata": {
        "id": "EtmxAZYh7kbl",
        "colab_type": "code",
        "colab": {}
      },
      "source": [
        "          \"\"\"Data loading\"\"\"\n",
        "df_Rcurr_month = pd.read_csv('https://raw.githubusercontent.com/swlee23/Deep-Learning-Time-Series-Anomaly-Detection/master/data/RCurr_processed_month.csv')\n",
        "df_Rcurr_month = df_Rcurr_month.fillna(0)\n",
        "df_Rcurr_month[\"DataSavedTime\"] = pd.to_datetime(df_Rcurr_month[\"DataSavedTime\"])\n",
        "df_Rcurr_month[\"DataSavedTime\"] = matplotlib.dates.date2num(df_Rcurr_month[\"DataSavedTime\"])\n",
        "plt.xticks(rotation=70)\n",
        "plt.plot_date(x=df_Rcurr_month[\"DataSavedTime\"], y=df_Rcurr_month['Item001'], \n",
        "              linestyle='solid', marker='None')\n",
        "plt.title('R current')\n",
        "plt.ylabel('current value')\n",
        "plt.xlabel('time')\n",
        "plt.legend(['Item001'], loc='upper right')\n",
        "plt.figure(figsize=(100,10))\n",
        "plt.show()"
      ],
      "execution_count": 0,
      "outputs": []
    },
    {
      "cell_type": "code",
      "metadata": {
        "id": "vARWFbRmfRJq",
        "colab_type": "code",
        "colab": {}
      },
      "source": [
        "          \"\"\"Data loading\"\"\"\n",
        "df_Rcurr_0524 = pd.read_csv('https://raw.githubusercontent.com/swlee23/Deep-Learning-Time-Series-Anomaly-Detection/master/data/0524/HisItemCurrRMinute.csv')\n",
        "df_Rcurr_0524 = df_Rcurr_0524.fillna(0)\n",
        "df_Rcurr_0524[\"DataSavedTime\"] = pd.to_datetime(df_Rcurr_0524[\"DataSavedTime\"])\n",
        "df_Rcurr_0524[\"DataSavedTime\"] = matplotlib.dates.date2num(df_Rcurr_0524[\"DataSavedTime\"])\n",
        "plt.xticks(rotation=70)\n",
        "plt.plot_date(x=df_Rcurr_0524[\"DataSavedTime\"], y=df_Rcurr_0524['Item001'], \n",
        "              linestyle='solid', marker='None')\n",
        "plt.title('R current 0524')\n",
        "plt.ylabel('current value')\n",
        "plt.xlabel('time')\n",
        "plt.legend(['Item001'], loc='upper right')\n",
        "plt.figure(figsize=(100,10))\n",
        "plt.show()\n",
        "\n",
        "df_Rcurr_0527 = pd.read_csv('https://raw.githubusercontent.com/swlee23/Deep-Learning-Time-Series-Anomaly-Detection/master/data/0527/HisItemCurrRMinute.csv')\n",
        "df_Rcurr_0527 = df_Rcurr_0527.fillna(0)\n",
        "df_Rcurr_0527[\"DataSavedTime\"] = pd.to_datetime(df_Rcurr_0527[\"DataSavedTime\"])\n",
        "df_Rcurr_0527[\"DataSavedTime\"] = matplotlib.dates.date2num(df_Rcurr_0527[\"DataSavedTime\"])\n",
        "plt.xticks(rotation=70)\n",
        "plt.plot_date(x=df_Rcurr_0527[\"DataSavedTime\"], y=df_Rcurr_0527['Item001'], \n",
        "              linestyle='solid', marker='None')\n",
        "plt.title('R current 0527')\n",
        "plt.ylabel('current value')\n",
        "plt.xlabel('time')\n",
        "plt.legend(['Item001'], loc='upper right')\n",
        "plt.figure(figsize=(100,10))\n",
        "plt.show()\n",
        "\n",
        "df_Rcurr_0528 = pd.read_csv('https://raw.githubusercontent.com/swlee23/Deep-Learning-Time-Series-Anomaly-Detection/master/data/0528/HisItemCurrRMinute.csv')\n",
        "df_Rcurr_0528 = df_Rcurr_0528.fillna(0)\n",
        "df_Rcurr_0528[\"DataSavedTime\"] = pd.to_datetime(df_Rcurr_0528[\"DataSavedTime\"])\n",
        "df_Rcurr_0528[\"DataSavedTime\"] = matplotlib.dates.date2num(df_Rcurr_0528[\"DataSavedTime\"])\n",
        "plt.xticks(rotation=70)\n",
        "plt.plot_date(x=df_Rcurr_0528[\"DataSavedTime\"], y=df_Rcurr_0528['Item001'], \n",
        "              linestyle='solid', marker='None')\n",
        "plt.title('R current 0528')\n",
        "plt.ylabel('current value')\n",
        "plt.xlabel('time')\n",
        "plt.legend(['Item001'], loc='upper right')\n",
        "plt.figure(figsize=(100,10))\n",
        "plt.show()\n",
        "\n",
        "df_Rcurr_0529 = pd.read_csv('https://raw.githubusercontent.com/swlee23/Deep-Learning-Time-Series-Anomaly-Detection/master/data/0529/HisItemCurrRMinute.csv')\n",
        "df_Rcurr_0529 = df_Rcurr_0529.fillna(0)\n",
        "df_Rcurr_0529[\"DataSavedTime\"] = pd.to_datetime(df_Rcurr_0529[\"DataSavedTime\"])\n",
        "df_Rcurr_0529[\"DataSavedTime\"] = matplotlib.dates.date2num(df_Rcurr_0529[\"DataSavedTime\"])\n",
        "plt.xticks(rotation=70)\n",
        "plt.plot_date(x=df_Rcurr_0529[\"DataSavedTime\"], y=df_Rcurr_0529['Item001'], \n",
        "              linestyle='solid', marker='None')\n",
        "plt.title('R current 0529')\n",
        "plt.ylabel('current value')\n",
        "plt.xlabel('time')\n",
        "plt.legend(['Item001'], loc='upper right')\n",
        "plt.figure(figsize=(100,10))\n",
        "plt.show()"
      ],
      "execution_count": 0,
      "outputs": []
    },
    {
      "cell_type": "code",
      "metadata": {
        "id": "Qit2RtRU-8B7",
        "colab_type": "code",
        "colab": {}
      },
      "source": [
        "    '''Delete abnormal peaks and zeros'''\n",
        "# plot raw data\n",
        "plt.xticks(rotation=70)\n",
        "plt.plot_date(x=df_Rcurr_month[\"DataSavedTime\"], y=df_Rcurr_month['Item001'], \n",
        "              linestyle='solid', marker='None')\n",
        "plt.title('Monthly R current raw data')\n",
        "plt.ylabel('current value')\n",
        "plt.xlabel('time')\n",
        "plt.legend(['Item001'], loc='upper right')\n",
        "plt.figure(figsize=(100,10))\n",
        "plt.show()    \n",
        "\n",
        "# Set break time interval\n",
        "br_time_1 = (410, 485)\n",
        "br_time_2 = (700, 730)\n",
        "\n",
        "# remove zero values except break time\n",
        "for i in range(len(df_Rcurr_month['Item001'])) :\n",
        "        if df_Rcurr_month['Item001'][i] in range(br_time_1[0], br_time_1[1]) :\n",
        "            continue\n",
        "        elif df_Rcurr_month['Item001'][i] in range(br_time_2[0], br_time_2[1]) :\n",
        "            continue\n",
        "        elif df_Rcurr_month['Item001'][i] != 0 :\n",
        "            continue\n",
        "        else : df_Rcurr_month.drop(df_Rcurr_month.index[i])\n",
        "plt.xticks(rotation=70)\n",
        "plt.plot_date(x=df_Rcurr_month_zrm[\"DataSavedTime\"], y=df_Rcurr_month_zrm['Item001'], \n",
        "              linestyle='solid', marker='None')\n",
        "plt.title('Monthly R current zeros removed')\n",
        "plt.ylabel('current value')\n",
        "plt.xlabel('time')\n",
        "plt.legend(['Item001'], loc='upper right')\n",
        "plt.figure(figsize=(100,10))\n",
        "plt.show()\n",
        "\n",
        "\n",
        "\n",
        "# Set normal interval\n",
        "temp_list = df_Rcurr_month[(df_Rcurr_month['Item001'] != 0)]\n",
        "mu = statistics.mean(temp_list)\n",
        "norm_interval = (mu-0.5, mu+0.5) # justification?\n",
        "print('normal interval = ', norm_interval)\n",
        "\n",
        "# Count abnormal points\n",
        "abn_count = 0\n",
        "for i in range(len(df_Rcurr_month['Item001'])) :\n",
        "        val = df_Rcurr_month['Item001'][i]\n",
        "        if val == 0 :\n",
        "            continue\n",
        "        elif not norm_interval[0] <= val <= norm_interval[1] : \n",
        "            abn_count = abn_count + 1\n",
        "print('total # of abnormal points = ', abn_count)\n",
        "print('abnormal points percentile = ', abn_count*100 / len(df_Rcurr_month_zrm['Item001']), '%')\n",
        "\n",
        "# Remove abnormal points\n",
        "df_Rcurr_month_zrm_abrm = df_Rcurr_month_zrm[(df_Rcurr_month_zrm['Item001'] > norm_interval[0]) &\n",
        "                                             (df_Rcurr_month_zrm['Item001'] < norm_interval[1])]\n",
        "  \n",
        "plt.xticks(rotation=70)\n",
        "plt.plot_date(x=df_Rcurr_month_zrm_abrm[\"DataSavedTime\"], y=df_Rcurr_month_zrm_abrm['Item001'], \n",
        "              linestyle='solid', marker='None')\n",
        "plt.title('Monthly R current zeros, abnormals removed')\n",
        "plt.ylabel('current value')\n",
        "plt.xlabel('time')\n",
        "plt.legend(['Item001'], loc='upper right')\n",
        "plt.figure(figsize=(100,10))\n",
        "plt.show()"
      ],
      "execution_count": 0,
      "outputs": []
    },
    {
      "cell_type": "code",
      "metadata": {
        "id": "Vmp3iq_VwmM1",
        "colab_type": "code",
        "colab": {}
      },
      "source": [
        "                '''fill up blanks in dataframe with '''\n",
        "\n",
        "'g' in df.index"
      ],
      "execution_count": 0,
      "outputs": []
    },
    {
      "cell_type": "code",
      "metadata": {
        "id": "f8vpGNQArbp7",
        "colab_type": "code",
        "colab": {}
      },
      "source": [
        "            '''Plot distribution / Calculate confidence level '''\n",
        "\n",
        "data = df_Rcurr_month_zrm_abrm['Item001']\n",
        "\n",
        "# fit data into normal distribution\n",
        "(mu, sigma) = norm.fit(data)\n",
        "\n",
        "# the histogram of the data\n",
        "binwidth = 0.01\n",
        "n, bins, patches = plt.hist(data, bins=np.arange(min(data), max(data) + binwidth, binwidth),\n",
        "                            facecolor='green', density=True)\n",
        "\n",
        "# add fitted Gaussian distribution line\n",
        "y = mlab.normpdf(bins, mu, sigma)\n",
        "l = plt.plot(bins, y, 'r--', linewidth=2)\n",
        "\n",
        "# plot Gaussian distribution of current values for a month\n",
        "plt.xlabel('Current Value')\n",
        "plt.ylabel('Probability')\n",
        "plt.title(r'$\\mathrm{Histogram\\ of\\ monthly\\ current\\ values\\:}\\ \\mu=%.3f,\\ \\sigma=%.3f$' %(mu, sigma))\n",
        "plt.grid(True)\n",
        "# axes = plt.gca()\n",
        "# axes.set_xlim(2, 4)\n",
        "plt.show()\n",
        "\n",
        "# confidence level\n",
        "import numpy as np, scipy.stats as st\n",
        "st.t.interval(0.9998, len(data)-1, loc=np.mean(data), scale=st.sem(data))"
      ],
      "execution_count": 0,
      "outputs": []
    }
  ]
}