{
  "nbformat": 4,
  "nbformat_minor": 0,
  "metadata": {
    "colab": {
      "name": "Untitled1.ipynb",
      "version": "0.3.2",
      "provenance": [],
      "include_colab_link": true
    },
    "kernelspec": {
      "name": "python3",
      "display_name": "Python 3"
    }
  },
  "cells": [
    {
      "cell_type": "markdown",
      "metadata": {
        "id": "view-in-github",
        "colab_type": "text"
      },
      "source": [
        "<a href=\"https://colab.research.google.com/github/swlee23/Deep-Learning-Time-Series-Anomaly-Detection/blob/master/data_visualization.ipynb\" target=\"_parent\"><img src=\"https://colab.research.google.com/assets/colab-badge.svg\" alt=\"Open In Colab\"/></a>"
      ]
    },
    {
      "cell_type": "code",
      "metadata": {
        "id": "eB0HRPNS61Wc",
        "colab_type": "code",
        "colab": {
          "base_uri": "https://localhost:8080/",
          "height": 34
        },
        "outputId": "8b53588a-feea-48e7-e2a0-13df71545d95"
      },
      "source": [
        "            '''Data visualization'''"
      ],
      "execution_count": 1,
      "outputs": [
        {
          "output_type": "execute_result",
          "data": {
            "text/plain": [
              "'Data visualization'"
            ]
          },
          "metadata": {
            "tags": []
          },
          "execution_count": 1
        }
      ]
    },
    {
      "cell_type": "code",
      "metadata": {
        "id": "0Qu_hk4E7SEd",
        "colab_type": "code",
        "colab": {}
      },
      "source": [
        "import numpy as np\n",
        "from numpy import array\n",
        "import matplotlib.pyplot as plt\n",
        "import matplotlib.dates\n",
        "from  matplotlib.dates import date2num\n",
        "import pandas as pd"
      ],
      "execution_count": 0,
      "outputs": []
    },
    {
      "cell_type": "code",
      "metadata": {
        "id": "EtmxAZYh7kbl",
        "colab_type": "code",
        "colab": {
          "base_uri": "https://localhost:8080/",
          "height": 360
        },
        "outputId": "8c1ba992-1862-429c-b16a-2e912d2d4ed1"
      },
      "source": [
        "          \"\"\"Data loading\"\"\"\n",
        "df_Rcurr_month = pd.read_csv('https://raw.githubusercontent.com/swlee23/Deep-Learning-Time-Series-Anomaly-Detection/master/data/RCurr_processed_month.csv')\n",
        "df_Rcurr_month = df_Rcurr_month.fillna(0)\n",
        "df_Rcurr_month[\"DataSavedTime\"] = pd.to_datetime(df_Rcurr_month[\"DataSavedTime\"])\n",
        "df_Rcurr_month[\"DataSavedTime\"] = matplotlib.dates.date2num(df_Rcurr_month[\"DataSavedTime\"])\n",
        "plt.xticks(rotation=70)\n",
        "plt.plot_date(x=df_Rcurr_month[\"DataSavedTime\"], y=df_Rcurr_month['Item001'], \n",
        "              linestyle='solid', marker='None')\n",
        "plt.title('R current')\n",
        "plt.ylabel('current value')\n",
        "plt.xlabel('time')\n",
        "plt.legend(['Item001'], loc='upper right')\n",
        "plt.figure(figsize=(100,10))\n",
        "plt.show()"
      ],
      "execution_count": 6,
      "outputs": [
        {
          "output_type": "display_data",
          "data": {
            "image/png": "[encoded data removed]",
            "text/plain": [
              "<Figure size 432x288 with 1 Axes>"
            ]
          },
          "metadata": {
            "tags": []
          }
        },
        {
          "output_type": "display_data",
          "data": {
            "text/plain": [
              "<Figure size 7200x720 with 0 Axes>"
            ]
          },
          "metadata": {
            "tags": []
          }
        }
      ]
    },
    {
      "cell_type": "code",
      "metadata": {
        "id": "vARWFbRmfRJq",
        "colab_type": "code",
        "colab": {}
      },
      "source": [
        "          \"\"\"Data loading\"\"\"\n",
        "df_Rcurr_month = pd.read_csv('https://raw.githubusercontent.com/swlee23/Deep-Learning-Time-Series-Anomaly-Detection/master/data/RCurr_processed_month.csv')\n",
        "df_Rcurr_month = df_Rcurr_month.fillna(0)\n",
        "df_Rcurr_month[\"DataSavedTime\"] = pd.to_datetime(df_Rcurr_month[\"DataSavedTime\"])\n",
        "df_Rcurr_month[\"DataSavedTime\"] = matplotlib.dates.date2num(df_Rcurr_month[\"DataSavedTime\"])\n",
        "plt.xticks(rotation=70)\n",
        "plt.plot_date(x=df_Rcurr_month[\"DataSavedTime\"], y=df_Rcurr_month['Item001'], \n",
        "              linestyle='solid', marker='None')\n",
        "plt.title('R current')\n",
        "plt.ylabel('current value')\n",
        "plt.xlabel('time')\n",
        "plt.legend(['Item001'], loc='upper right')\n",
        "plt.figure(figsize=(100,10))\n",
        "plt.show()"
      ],
      "execution_count": 0,
      "outputs": []
    }
  ]
}