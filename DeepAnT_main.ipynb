{
  "nbformat": 4,
  "nbformat_minor": 0,
  "metadata": {
    "colab": {
      "name": "Untitled0.ipynb",
      "version": "0.3.2",
      "provenance": [],
      "include_colab_link": true
    },
    "kernelspec": {
      "name": "python3",
      "display_name": "Python 3"
    },
    "accelerator": "TPU"
  },
  "cells": [
    {
      "cell_type": "markdown",
      "metadata": {
        "id": "view-in-github",
        "colab_type": "text"
      },
      "source": [
        "<a href=\"https://colab.research.google.com/github/swlee23/Deep-Learning-Time-Series-Anomaly-Detection/blob/master/DeepAnT_main.ipynb\" target=\"_parent\"><img src=\"https://colab.research.google.com/assets/colab-badge.svg\" alt=\"Open In Colab\"/></a>"
      ]
    },
    {
      "cell_type": "code",
      "metadata": {
        "id": "mJssM9Hd_rHt",
        "colab_type": "code",
        "colab": {}
      },
      "source": [
        "# Things to be included\n",
        "# 1. visualization tools for optimization\n",
        "# 2. visualization tools for plotting actual and predicted sequence, and anomaly points\n",
        "# 3. Computation cost calculation\n",
        "# 4. Warnings / Errors?"
      ],
      "execution_count": 0,
      "outputs": []
    },
    {
      "cell_type": "code",
      "metadata": {
        "id": "60oNtF4FWakJ",
        "colab_type": "code",
        "colab": {}
      },
      "source": [
        "import numpy as np\n",
        "from numpy import array\n",
        "import random\n",
        "from random import randint\n",
        "import os\n",
        "import matplotlib.pyplot as plt\n",
        "import pandas as pd\n",
        "import keras\n",
        "from keras.models import Sequential\n",
        "from keras.layers import Dense, Conv1D, Flatten, Activation, MaxPooling1D, Dropout\n",
        "from keras.optimizers import SGD"
      ],
      "execution_count": 0,
      "outputs": []
    },
    {
      "cell_type": "code",
      "metadata": {
        "id": "9A1LKB0GwtQH",
        "colab_type": "code",
        "colab": {}
      },
      "source": [
        "os.environ[\"CUDA_DEVICE_ORDER\"]=\"PCI_BUS_ID\"\n",
        "os.environ[\"CUDA_VISIBLE_DEVICES\"]=\"1\" #model will be trained on GPU 1"
      ],
      "execution_count": 0,
      "outputs": []
    },
    {
      "cell_type": "code",
      "metadata": {
        "id": "vCvn51nkpuah",
        "colab_type": "code",
        "colab": {}
      },
      "source": [
        "              \"\"\"Hyperparameters\"\"\"\n",
        "input_seq_len = 500      # Length of input sequence (chopped from raw_sequence)\n",
        "w = 50                   # History window (number of time stamps taken into account) \n",
        "                         # i.e., filter(kernel) size       \n",
        "p_w = 1                  # Prediction window (number of time stampes required to be \n",
        "                         # predicted)\n",
        "\n",
        "num_filt_1 = 32          # Number of filters in first conv layer\n",
        "num_filt_2 = 32          # Number of filters in second conv layer\n",
        "num_nrn_dl = 40          # Number of neurons in dense layer\n",
        "num_nrn_ol = p_w         # Number of neurons in output layer\n",
        "\n",
        "conv_strides = 1\n",
        "pool_size_1 = 2          # Length of window of pooling layer 1\n",
        "pool_size_2 = 2          # Length of window of pooling layer 2\n",
        "pool_strides_1 = 2       # Stride of window of pooling layer 1\n",
        "pool_strides_2 = 2       # Stride of window of pooling layer 2\n",
        "\n",
        "epochs = 30\n",
        "dropout_rate = 0.5       # Dropout rate in the fully connected layer\n",
        "learning_rate = 2e-5  \n",
        "anm_det_thr = 0.8        # Threshold for classifying anomaly (0.5~0.8)"
      ],
      "execution_count": 0,
      "outputs": []
    },
    {
      "cell_type": "code",
      "metadata": {
        "id": "aKYzBd94KZFu",
        "colab_type": "code",
        "outputId": "253e128c-f18a-4e05-ddea-31bee0609378",
        "colab": {
          "base_uri": "https://localhost:8080/",
          "height": 312
        }
      },
      "source": [
        "                \"\"\"Data loading\"\"\"\n",
        "df = pd.read_csv('https://raw.githubusercontent.com/swlee23/Deep-Learning-Time-Series-Anomaly-Detection/master/data/sinewave.csv')\n",
        "plt.plot(df['sinewave'])\n",
        "plt.title('sinewave')\n",
        "plt.ylabel('value')\n",
        "plt.xlabel('time')\n",
        "plt.legend(['sinewave'], loc='upper right')\n",
        "plt.figure(figsize=(100,10))\n",
        "plt.show()\n",
        "\n"
      ],
      "execution_count": 49,
      "outputs": [
        {
          "output_type": "display_data",
          "data": {
            "image/png": "[encoded data removed]",
            "text/plain": [
              "<Figure size 432x288 with 1 Axes>"
            ]
          },
          "metadata": {
            "tags": []
          }
        },
        {
          "output_type": "display_data",
          "data": {
            "text/plain": [
              "<Figure size 7200x720 with 0 Axes>"
            ]
          },
          "metadata": {
            "tags": []
          }
        }
      ]
    },
    {
      "cell_type": "code",
      "metadata": {
        "id": "AQsOxuDCIGpQ",
        "colab_type": "code",
        "colab": {}
      },
      "source": [
        "              \"\"\"Data preprocessing\"\"\"\n",
        "# split a univariate sequence into samples\n",
        "def split_sequence(raw_seq, n_steps, prediction_seq_len):\n",
        "\tbatch_sample, batch_label = list(), list()\n",
        "\tfor i in range(len(raw_seq)):\n",
        "\t\t# find the end of this pattern\n",
        "\t\tend_ix = i + n_steps\n",
        "\t\t# check if we are beyond the sequence\n",
        "\t\tif end_ix > len(raw_seq)-prediction_seq_len:\n",
        "\t\t\tbreak\n",
        "\t\t# gather input and output parts of the pattern\n",
        "\t\tseq_x, seq_y = raw_seq[i:end_ix], raw_seq[end_ix:end_ix + prediction_seq_len]\n",
        "\t\tbatch_sample.append(seq_x)\n",
        "\t\tbatch_label.append(seq_y)\n",
        "\treturn array(batch_sample), array(batch_label)\n",
        "\n",
        "# define input sequence\n",
        "raw_seq = list(df['sinewave'])\n",
        "\n",
        "# length of one sample sequence in batch\n",
        "n_steps = input_seq_len\n",
        "\n",
        "# choose length of prediction sequence\n",
        "prediction_seq_len = p_w\n",
        "\n",
        "# split into samples\n",
        "batch_sample, batch_label = split_sequence(raw_seq, n_steps, prediction_seq_len)\n",
        "\n",
        "# summarize the data\n",
        "# for i in range(5):\n",
        "# \tprint(X[i], Y[i])\n",
        "  \n",
        "# 2. reshape from [samples, timesteps] into [samples, timesteps, features]\n",
        "# univariate time series\n",
        "n_features = 1\n",
        "# need to convert batch into 3D tensor of the form [batch_size, input_seq_len, n_features]\n",
        "batch_sample = batch_sample.reshape((batch_sample.shape[0], batch_sample.shape[1], n_features))\n",
        "\n",
        "if prediction_seq_len > 1:\n",
        "    batch_label = batch_label.reshape((batch_label.shape[0], batch_label.shape[1], n_features))"
      ],
      "execution_count": 0,
      "outputs": []
    },
    {
      "cell_type": "code",
      "metadata": {
        "id": "sLBqHZLmomSD",
        "colab_type": "code",
        "outputId": "81626b17-0e39-43d4-e79b-4858a8ea04af",
        "colab": {
          "base_uri": "https://localhost:8080/",
          "height": 403
        }
      },
      "source": [
        "              \"\"\"Generate model for predictor\"\"\"\n",
        "model = Sequential()\n",
        "\n",
        "# Convolutional Layer #1\n",
        "# Computes 32 features using a 1D filter(kernel) of with w with ReLU activation. \n",
        "# Padding is added to preserve width.\n",
        "# Input Tensor Shape: [batch_size, input_seq_len, 1] / batch_size = len(batch_sample)\n",
        "# Output Tensor Shape: [batch_size, w, num_filt_1] (num_filt_1 = 32 feature vectors)\n",
        "model.add(Conv1D(filters=num_filt_1,\n",
        "                 kernel_size=w,\n",
        "                 strides=conv_strides,\n",
        "                 padding='valid',\n",
        "                 activation='relu',\n",
        "                 input_shape=(input_seq_len, p_w)))\n",
        "\n",
        "# Pooling Layer #1\n",
        "# First max pooling layer with a filter of length 2 and stride of 2\n",
        "# Input Tensor Shape: [batch_size, w, num_filt_1]\n",
        "# Output Tensor Shape: [batch_size, 0.5 * w, num_filt_1]\n",
        "\n",
        "model.add(MaxPooling1D(pool_size=pool_size_1)) \n",
        "                    #  strides=pool_strides_1, \n",
        "                    #  padding='valid'))\n",
        "\n",
        "# Convolutional Layer #2\n",
        "# Computes 64 features using a 5x5 filter.\n",
        "# Padding is added to preserve width and height.\n",
        "# Input Tensor Shape: [batch_size, 0.5 * w, 32]\n",
        "# Output Tensor Shape: [batch_size, 0.5 * w, num_filt_1 * num_filt_2]\n",
        "model.add(Conv1D(filters=num_filt_2,\n",
        "                 kernel_size=w,\n",
        "                 strides=conv_strides,\n",
        "                 padding='valid',\n",
        "                 activation='relu'))\n",
        "\n",
        "# Max Pooling Layer #2\n",
        "# Second max pooling layer with a 2x2 filter and stride of 2\n",
        "# Input Tensor Shape: [batch_size, 0.5 * w, num_filt_1 * num_filt_2]\n",
        "# Output Tensor Shape: [batch_size, 0.25 * w, num_filt_1 * num_filt_2]\n",
        "model.add(MaxPooling1D(pool_size=pool_size_2))\n",
        "                    #  strides=pool_strides_2, \n",
        "                    #  padding='valid'\n",
        "          \n",
        "# Flatten tensor into a batch of vectors\n",
        "# Input Tensor Shape: [batch_size, 0.25 * w, num_filt_1 * num_filt_2]\n",
        "# Output Tensor Shape: [batch_size, 0.25 * w * num_filt_1 * num_filt_2]\n",
        "model.add(Flatten())\n",
        "\n",
        "# Dense Layer (Output layer)\n",
        "# Densely connected layer with 1024 neurons\n",
        "# Input Tensor Shape: [batch_size, 0.25 * w * num_filt_1 * num_filt_2]\n",
        "# Output Tensor Shape: [batch_size, 1024]\n",
        "model.add(Dense(units=num_nrn_dl, activation='relu'))  \n",
        "\n",
        "# Dropout\n",
        "# Prevents overfitting in deep neural networks\n",
        "model.add(Dropout(dropout_rate))\n",
        "\n",
        "# Output layer\n",
        "# Input Tensor Shape: [batch_size, 1024]\n",
        "# Output Tensor Shape: [batch_size, p_w]\n",
        "model.add(Dense(units=num_nrn_ol))\n",
        "\n",
        "# Summarize model structure\n",
        "model.summary()"
      ],
      "execution_count": 27,
      "outputs": [
        {
          "output_type": "stream",
          "text": [
            "_________________________________________________________________\n",
            "Layer (type)                 Output Shape              Param #   \n",
            "=================================================================\n",
            "conv1d_7 (Conv1D)            (None, 451, 32)           1632      \n",
            "_________________________________________________________________\n",
            "max_pooling1d_7 (MaxPooling1 (None, 225, 32)           0         \n",
            "_________________________________________________________________\n",
            "conv1d_8 (Conv1D)            (None, 176, 32)           51232     \n",
            "_________________________________________________________________\n",
            "max_pooling1d_8 (MaxPooling1 (None, 88, 32)            0         \n",
            "_________________________________________________________________\n",
            "flatten_4 (Flatten)          (None, 2816)              0         \n",
            "_________________________________________________________________\n",
            "dense_7 (Dense)              (None, 40)                112680    \n",
            "_________________________________________________________________\n",
            "dropout_4 (Dropout)          (None, 40)                0         \n",
            "_________________________________________________________________\n",
            "dense_8 (Dense)              (None, 1)                 41        \n",
            "=================================================================\n",
            "Total params: 165,585\n",
            "Trainable params: 165,585\n",
            "Non-trainable params: 0\n",
            "_________________________________________________________________\n"
          ],
          "name": "stdout"
        }
      ]
    },
    {
      "cell_type": "code",
      "metadata": {
        "id": "K76R-2HPajxI",
        "colab_type": "code",
        "colab": {}
      },
      "source": [
        "               '''configure model'''\n",
        "model.compile(optimizer='adam', \n",
        "              loss='mean_absolute_error')\n",
        "\n",
        "# sgd = keras.optimizers.SGD(lr=learning_rate, \n",
        "#                          decay=1e-6, \n",
        "#                          momentum=0.9, \n",
        "#                          nesterov=True)\n",
        "# model.compile(optimizer='sgd', \n",
        "#               loss='mean_absolute_error', \n",
        "#               metrics=['accuracy'])"
      ],
      "execution_count": 0,
      "outputs": []
    },
    {
      "cell_type": "code",
      "metadata": {
        "id": "MO8EMSBaMZ8K",
        "colab_type": "code",
        "outputId": "9ecd4667-aaec-4da2-a6f2-4f422f851b93",
        "colab": {
          "base_uri": "https://localhost:8080/",
          "height": 1000
        }
      },
      "source": [
        "                    '''Training'''\n",
        "model_fit = model.fit(batch_sample,\n",
        "                      batch_label,\n",
        "                      epochs=epochs,\n",
        "                      verbose=1)"
      ],
      "execution_count": 29,
      "outputs": [
        {
          "output_type": "stream",
          "text": [
            "W0702 03:18:04.544363 140682196998016 deprecation_wrapper.py:119] From /usr/local/lib/python3.6/dist-packages/keras/backend/tensorflow_backend.py:986: The name tf.assign_add is deprecated. Please use tf.compat.v1.assign_add instead.\n",
            "\n"
          ],
          "name": "stderr"
        },
        {
          "output_type": "stream",
          "text": [
            "Epoch 1/30\n",
            "4501/4501 [==============================] - 13s 3ms/step - loss: 0.1881\n",
            "Epoch 2/30\n",
            "4501/4501 [==============================] - 12s 3ms/step - loss: 0.1516\n",
            "Epoch 3/30\n",
            "4501/4501 [==============================] - 12s 3ms/step - loss: 0.1510\n",
            "Epoch 4/30\n",
            "4501/4501 [==============================] - 12s 3ms/step - loss: 0.1432\n",
            "Epoch 5/30\n",
            "4501/4501 [==============================] - 12s 3ms/step - loss: 0.1408\n",
            "Epoch 6/30\n",
            "4501/4501 [==============================] - 12s 3ms/step - loss: 0.1415\n",
            "Epoch 7/30\n",
            "4501/4501 [==============================] - 12s 3ms/step - loss: 0.1347\n",
            "Epoch 8/30\n",
            "4501/4501 [==============================] - 12s 3ms/step - loss: 0.1371\n",
            "Epoch 9/30\n",
            "4501/4501 [==============================] - 12s 3ms/step - loss: 0.1378\n",
            "Epoch 10/30\n",
            "4501/4501 [==============================] - 12s 3ms/step - loss: 0.1358\n",
            "Epoch 11/30\n",
            "4501/4501 [==============================] - 12s 3ms/step - loss: 0.1376\n",
            "Epoch 12/30\n",
            "4501/4501 [==============================] - 12s 3ms/step - loss: 0.1403\n",
            "Epoch 13/30\n",
            "4501/4501 [==============================] - 12s 3ms/step - loss: 0.1318\n",
            "Epoch 14/30\n",
            "4501/4501 [==============================] - 12s 3ms/step - loss: 0.1376\n",
            "Epoch 15/30\n",
            "4501/4501 [==============================] - 12s 3ms/step - loss: 0.1332\n",
            "Epoch 16/30\n",
            "4501/4501 [==============================] - 12s 3ms/step - loss: 0.1364\n",
            "Epoch 17/30\n",
            "4501/4501 [==============================] - 12s 3ms/step - loss: 0.1350\n",
            "Epoch 18/30\n",
            "4501/4501 [==============================] - 12s 3ms/step - loss: 0.1349\n",
            "Epoch 19/30\n",
            "4501/4501 [==============================] - 12s 3ms/step - loss: 0.1341\n",
            "Epoch 20/30\n",
            "4501/4501 [==============================] - 12s 3ms/step - loss: 0.1349\n",
            "Epoch 21/30\n",
            "4501/4501 [==============================] - 12s 3ms/step - loss: 0.1335\n",
            "Epoch 22/30\n",
            "4501/4501 [==============================] - 12s 3ms/step - loss: 0.1284\n",
            "Epoch 23/30\n",
            "4501/4501 [==============================] - 12s 3ms/step - loss: 0.1313\n",
            "Epoch 24/30\n",
            "4501/4501 [==============================] - 12s 3ms/step - loss: 0.1315\n",
            "Epoch 25/30\n",
            "4501/4501 [==============================] - 12s 3ms/step - loss: 0.1331\n",
            "Epoch 26/30\n",
            "4501/4501 [==============================] - 12s 3ms/step - loss: 0.1328\n",
            "Epoch 27/30\n",
            "4501/4501 [==============================] - 12s 3ms/step - loss: 0.1321\n",
            "Epoch 28/30\n",
            "4501/4501 [==============================] - 12s 3ms/step - loss: 0.1325\n",
            "Epoch 29/30\n",
            "4501/4501 [==============================] - 12s 3ms/step - loss: 0.1322\n",
            "Epoch 30/30\n",
            "4501/4501 [==============================] - 12s 3ms/step - loss: 0.1310\n"
          ],
          "name": "stdout"
        }
      ]
    },
    {
      "cell_type": "code",
      "metadata": {
        "id": "RSt3I75cpd10",
        "colab_type": "code",
        "colab": {
          "base_uri": "https://localhost:8080/",
          "height": 246
        },
        "outputId": "76007fa3-d36b-465c-86d7-ceda8a806896"
      },
      "source": [
        "        '''Visualization of training/test accuracy'''\n",
        "print(model_fit.history.keys())\n",
        "# summarize history for accuracy\n",
        "plt.plot(model_fit.history['accuracy'])\n",
        "plt.plot(model_fit.history['val_acc'])\n",
        "plt.title('model accuracy')\n",
        "plt.ylabel('accuracy')\n",
        "plt.xlabel('epoch')\n",
        "plt.legend(['train', 'test'], loc='upper left')\n",
        "plt.show()\n",
        "# summarize history for loss\n",
        "plt.plot(history.history['loss'])\n",
        "plt.plot(history.history['val_loss'])\n",
        "plt.title('model loss')\n",
        "plt.ylabel('loss')\n",
        "plt.xlabel('epoch')\n",
        "plt.legend(['train', 'test'], loc='upper left')\n",
        "plt.show()"
      ],
      "execution_count": 30,
      "outputs": [
        {
          "output_type": "stream",
          "text": [
            "dict_keys(['loss'])\n"
          ],
          "name": "stdout"
        },
        {
          "output_type": "error",
          "ename": "KeyError",
          "evalue": "ignored",
          "traceback": [
            "\u001b[0;31m---------------------------------------------------------------------------\u001b[0m",
            "\u001b[0;31mKeyError\u001b[0m                                  Traceback (most recent call last)",
            "\u001b[0;32m<ipython-input-30-d2cfae414bc5>\u001b[0m in \u001b[0;36m<module>\u001b[0;34m()\u001b[0m\n\u001b[1;32m      2\u001b[0m \u001b[0mprint\u001b[0m\u001b[0;34m(\u001b[0m\u001b[0mmodel_fit\u001b[0m\u001b[0;34m.\u001b[0m\u001b[0mhistory\u001b[0m\u001b[0;34m.\u001b[0m\u001b[0mkeys\u001b[0m\u001b[0;34m(\u001b[0m\u001b[0;34m)\u001b[0m\u001b[0;34m)\u001b[0m\u001b[0;34m\u001b[0m\u001b[0;34m\u001b[0m\u001b[0m\n\u001b[1;32m      3\u001b[0m \u001b[0;31m# summarize history for accuracy\u001b[0m\u001b[0;34m\u001b[0m\u001b[0;34m\u001b[0m\u001b[0;34m\u001b[0m\u001b[0m\n\u001b[0;32m----> 4\u001b[0;31m \u001b[0mplt\u001b[0m\u001b[0;34m.\u001b[0m\u001b[0mplot\u001b[0m\u001b[0;34m(\u001b[0m\u001b[0mmodel_fit\u001b[0m\u001b[0;34m.\u001b[0m\u001b[0mhistory\u001b[0m\u001b[0;34m[\u001b[0m\u001b[0;34m'accuracy'\u001b[0m\u001b[0;34m]\u001b[0m\u001b[0;34m)\u001b[0m\u001b[0;34m\u001b[0m\u001b[0;34m\u001b[0m\u001b[0m\n\u001b[0m\u001b[1;32m      5\u001b[0m \u001b[0mplt\u001b[0m\u001b[0;34m.\u001b[0m\u001b[0mplot\u001b[0m\u001b[0;34m(\u001b[0m\u001b[0mmodel_fit\u001b[0m\u001b[0;34m.\u001b[0m\u001b[0mhistory\u001b[0m\u001b[0;34m[\u001b[0m\u001b[0;34m'val_acc'\u001b[0m\u001b[0;34m]\u001b[0m\u001b[0;34m)\u001b[0m\u001b[0;34m\u001b[0m\u001b[0;34m\u001b[0m\u001b[0m\n\u001b[1;32m      6\u001b[0m \u001b[0mplt\u001b[0m\u001b[0;34m.\u001b[0m\u001b[0mtitle\u001b[0m\u001b[0;34m(\u001b[0m\u001b[0;34m'model accuracy'\u001b[0m\u001b[0;34m)\u001b[0m\u001b[0;34m\u001b[0m\u001b[0;34m\u001b[0m\u001b[0m\n",
            "\u001b[0;31mKeyError\u001b[0m: 'accuracy'"
          ]
        }
      ]
    },
    {
      "cell_type": "code",
      "metadata": {
        "id": "URqDB0oxhX_X",
        "colab_type": "code",
        "colab": {
          "base_uri": "https://localhost:8080/",
          "height": 50
        },
        "outputId": "2d6a02cc-6051-49f1-a5dc-2d18eafc99e2"
      },
      "source": [
        "                      \"\"\"Testing\"\"\"\n",
        "# Set number of test sequences \n",
        "n_test_seq = 3\n",
        "\n",
        "# Split a univariate sequence into samples\n",
        "def generate_test_batch(raw_seq, n_test_seq):\n",
        "  # Sample a portion of the raw_seq randomly\n",
        "    ran_ix = random.randint(0,len(raw_seq) - n_test_seq * input_seq_len - n_test_seq * p_w)\n",
        "    raw_test_seq = array(raw_seq[ran_ix:ran_ix + n_test_seq * input_seq_len +  n_test_seq * p_w])\n",
        "    batch_test_seq, batch_test_label = list(), list()\n",
        "    ix = ran_ix\n",
        "    for i in range(n_test_seq):\n",
        "        # gather input and output parts of the pattern\n",
        "        seq_x = raw_seq[ix : ix+input_seq_len],\n",
        "        seq_y = raw_seq[ix+input_seq_len : ix+input_seq_len+p_w]\n",
        "        ix = ix+input_seq_len+p_w\n",
        "        batch_test_seq.append(seq_x)\n",
        "        batch_test_label.append(seq_y)\n",
        "    return array(batch_test_seq), array(batch_test_label)\n",
        "\n",
        "batch_test_seq, batch_test_label = generate_test_batch(list(df['sinewave']), n_test_seq)\n",
        "batch_test_seq = batch_test_seq.reshape((batch_test_seq.shape[0], input_seq_len, n_features))\n",
        "batch_test_label = batch_test_label.reshape((batch_test_label.shape[0], p_w))\n",
        "\n",
        "# Returns the loss value & metrics values for the model in test mode\n",
        "model.evaluate(x=batch_test_seq,\n",
        "               y=batch_test_label,\n",
        "               verbose=1) "
      ],
      "execution_count": 32,
      "outputs": [
        {
          "output_type": "stream",
          "text": [
            "\r3/3 [==============================] - 0s 2ms/step\n"
          ],
          "name": "stdout"
        },
        {
          "output_type": "execute_result",
          "data": {
            "text/plain": [
              "0.07834619283676147"
            ]
          },
          "metadata": {
            "tags": []
          },
          "execution_count": 32
        }
      ]
    },
    {
      "cell_type": "code",
      "metadata": {
        "id": "mK0_Cq-Oh0tC",
        "colab_type": "code",
        "colab": {}
      },
      "source": [
        "                  \"\"\"Save Weights\"\"\"\n",
        "# save it to disk so we can load it back up anytime\n",
        "model.save_weights('sinwave_model_1.h5')  "
      ],
      "execution_count": 0,
      "outputs": []
    },
    {
      "cell_type": "code",
      "metadata": {
        "id": "jpzknk4th9bU",
        "colab_type": "code",
        "colab": {
          "base_uri": "https://localhost:8080/",
          "height": 50
        },
        "outputId": "f7eff34b-e9f8-42c0-ccf1-2f4cf7eb776b"
      },
      "source": [
        "                   \"\"\"Predicting\"\"\"\n",
        "# Build model \n",
        "model = Sequential()\n",
        "model.add(Conv1D(filters=num_filt_1,\n",
        "                 kernel_size=w,\n",
        "                 strides=conv_strides,\n",
        "                 padding='valid',\n",
        "                 activation='relu',\n",
        "                 input_shape=(input_seq_len, p_w)))\n",
        "model.add(MaxPooling1D(pool_size=pool_size_1)) \n",
        "model.add(Conv1D(filters=num_filt_2,\n",
        "                 kernel_size=w,\n",
        "                 strides=conv_strides,\n",
        "                 padding='valid',\n",
        "                 activation='relu'))\n",
        "model.add(MaxPooling1D(pool_size=pool_size_2))\n",
        "model.add(Flatten())\n",
        "model.add(Dense(units=num_nrn_dl, activation='relu')) \n",
        "model.add(Dropout(dropout_rate))\n",
        "model.add(Dense(units=num_nrn_ol))\n",
        "\n",
        "# Load the model's saved weights.\n",
        "model.load_weights('sinwave_model_1.h5')\n",
        "          \n",
        "# Sample a portion of the raw_seq randomly\n",
        "ran_ix = random.randint(1,len(raw_seq) - input_seq_len - p_w)\n",
        "test_seq = array(raw_seq[ran_ix : ran_ix + input_seq_len])\n",
        "target_label = array(raw_seq[ran_ix + input_seq_len : ran_ix + input_seq_len + p_w])\n",
        "x_input = array(test_seq)\n",
        "x_input = x_input.reshape((1, input_seq_len, n_features))\n",
        "\n",
        "# Predict the next time stampes of the sampled sequence\n",
        "yhat = model.predict(x_input, verbose=1)\n",
        "\n",
        "# Print our model's predictions.\n",
        "print(yhat)\n",
        "\n",
        "# Check our predictions against the ground truths.\n",
        "print(target_label) # [7, 2, 1, 0, 4]"
      ],
      "execution_count": 39,
      "outputs": [
        {
          "output_type": "stream",
          "text": [
            "[[-0.869351]]\n",
            "[-0.99767927]\n"
          ],
          "name": "stdout"
        }
      ]
    },
    {
      "cell_type": "code",
      "metadata": {
        "id": "OpCyEz7QqJiz",
        "colab_type": "code",
        "colab": {}
      },
      "source": [
        "                \"\"\"Anomaly detector\"\"\"\n",
        "def anomaly_detector(prediction_seq, ground_truth_seq):\n",
        "    # calculate Euclidean between actual seq and predicted seq\n",
        "    dist = np.linalg.norm(ground_truth_seq - prediction_seq)  \n",
        "    if (dist > anm_det_thr):\n",
        "        return true  # anomaly\n",
        "    else:\n",
        "        return false # normal "
      ],
      "execution_count": 0,
      "outputs": []
    },
    {
      "cell_type": "code",
      "metadata": {
        "id": "664VO9gMmmFE",
        "colab_type": "code",
        "colab": {}
      },
      "source": [
        "           '''Visualization of predicted time series'''\n"
      ],
      "execution_count": 0,
      "outputs": []
    },
    {
      "cell_type": "code",
      "metadata": {
        "id": "no2SqYbNoPXG",
        "colab_type": "code",
        "colab": {
          "base_uri": "https://localhost:8080/",
          "height": 34
        },
        "outputId": "c53f170f-bd26-43b2-b8d3-ea3cd7fa5799"
      },
      "source": [
        "# Shallow CNN version \n",
        "# split a univariate sequence into samples\n",
        "def split_sequence(sequence, n_steps):\n",
        "\tX, y = list(), list()\n",
        "\tfor i in range(len(sequence)):\n",
        "\t\t# find the end of this pattern\n",
        "\t\tend_ix = i + n_steps\n",
        "\t\t# check if we are beyond the sequence\n",
        "\t\tif end_ix > len(sequence)-1:\n",
        "\t\t\tbreak\n",
        "\t\t# gather input and output parts of the pattern\n",
        "\t\tseq_x, seq_y = sequence[i:end_ix], sequence[end_ix]\n",
        "\t\tX.append(seq_x)\n",
        "\t\ty.append(seq_y)\n",
        "\treturn array(X), array(y)\n",
        " \n",
        "# define input sequence\n",
        "raw_seq = [10, 20, 30, 40, 50, 60, 70, 80, 90]\n",
        "# choose a number of time steps\n",
        "n_steps = 3\n",
        "# split into samples\n",
        "X, y = split_sequence(raw_seq, n_steps)\n",
        "# reshape from [samples, timesteps] into [samples, timesteps, features]\n",
        "n_features = 1\n",
        "X = X.reshape((X.shape[0], X.shape[1], n_features))\n",
        "# define model\n",
        "model = Sequential()\n",
        "model.add(Conv1D(filters=64, kernel_size=2, activation='relu', input_shape=(n_steps, n_features)))\n",
        "model.add(MaxPooling1D(pool_size=2))\n",
        "model.add(Flatten())\n",
        "model.add(Dense(50, activation='relu'))\n",
        "model.add(Dense(1))\n",
        "model.compile(optimizer='adam', loss='mse')\n",
        "# fit model\n",
        "model.fit(X, y, epochs=1000, verbose=0)\n",
        "# demonstrate prediction\n",
        "x_input = array([70, 80, 90])\n",
        "x_input = x_input.reshape((1, n_steps, n_features))\n",
        "yhat = model.predict(x_input, verbose=0)\n",
        "print(yhat)"
      ],
      "execution_count": 94,
      "outputs": [
        {
          "output_type": "stream",
          "text": [
            "[[100.998]]\n"
          ],
          "name": "stdout"
        }
      ]
    }
  ]
}