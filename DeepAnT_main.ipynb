{
  "nbformat": 4,
  "nbformat_minor": 0,
  "metadata": {
    "colab": {
      "name": "Untitled0.ipynb",
      "version": "0.3.2",
      "provenance": [],
      "include_colab_link": true
    },
    "kernelspec": {
      "name": "python3",
      "display_name": "Python 3"
    }
  },
  "cells": [
    {
      "cell_type": "markdown",
      "metadata": {
        "id": "view-in-github",
        "colab_type": "text"
      },
      "source": [
        "<a href=\"https://colab.research.google.com/github/swlee23/Deep-Learning-Time-Series-Anomaly-Detection/blob/master/DeepAnT_main.ipynb\" target=\"_parent\"><img src=\"https://colab.research.google.com/assets/colab-badge.svg\" alt=\"Open In Colab\"/></a>"
      ]
    },
    {
      "cell_type": "code",
      "metadata": {
        "id": "60oNtF4FWakJ",
        "colab_type": "code",
        "colab": {}
      },
      "source": [
        "from __future__ import absolute_impor\n",
        "from __future__ import division\n",
        "from __future__ import print_function\n",
        "import tensorflow as tf\n",
        "import numpy as np\n",
        "import os\n",
        "tf.logging.set_verbosity(tf.logging.INFO)"
      ],
      "execution_count": 0,
      "outputs": []
    },
    {
      "cell_type": "code",
      "metadata": {
        "id": "9A1LKB0GwtQH",
        "colab_type": "code",
        "colab": {}
      },
      "source": [
        "os.environ['TF_CPP_MIN_LOG_LEVEL'] = '2'  # or any {'0', '1', '2'}"
      ],
      "execution_count": 0,
      "outputs": []
    },
    {
      "cell_type": "code",
      "metadata": {
        "id": "vCvn51nkpuah",
        "colab_type": "code",
        "colab": {}
      },
      "source": [
        "              \"\"\"Hyperparameters\"\"\"\n",
        "num_filt_1 = 32     # Number of filters in first conv layer\n",
        "num_filt_2 = 32     # Number of filters in second conv layer\n",
        "num_fc_1 = 40       # Number of neurons in fully connected layer\n",
        "w =                 # History window (length of sequences)       \n",
        "p_w = 1             # Prediction window (number of time stampes required to be \n",
        "                    # predicted)\n",
        "\n",
        "max_iterations = 20000\n",
        "batch_size = 64\n",
        "dropout_rate = 1.0       # Dropout rate in the fully connected layer\n",
        "plot_row = 5        # How many rows do you want to plot in the visualization\n",
        "learning_rate = 2e-5\n",
        "input_norm = False   # Do you want z-score input normalization?"
      ],
      "execution_count": 0,
      "outputs": []
    },
    {
      "cell_type": "code",
      "metadata": {
        "id": "sLBqHZLmomSD",
        "colab_type": "code",
        "colab": {}
      },
      "source": [
        "            \"\"\"Model function for CNN\"\"\"\n",
        "def cnn_model_fn(features, labels, mode):\n",
        "    # Input Layer\n",
        "    # Reshape X to 4-D tensor: [batch_size, width, height, channels]\n",
        "    # MNIST images are 28x28 pixels, and have one color channel\n",
        "    input_layer = tf.reshape(features[\"x\"], [-1, 28, 28, 1])\n",
        "\n",
        "    # Convolutional Layer #1\n",
        "    # Computes 32 features using a 5x5 filter with ReLU activation.\n",
        "    # Padding is added to preserve width and height.\n",
        "    # Input Tensor Shape: [batch_size, 28, 28, 1]\n",
        "    # Output Tensor Shape: [batch_size, 28, 28, 32]\n",
        "    conv1 = tf.layers.conv2d(\n",
        "        inputs=input_layer,\n",
        "        filters=num_filt_1,\n",
        "        kernel_size=[5, 5],\n",
        "        padding=\"same\",\n",
        "        activation=tf.nn.relu)\n",
        "\n",
        "    # Pooling Layer #1\n",
        "    # First max pooling layer with a 2x2 filter and stride of 2\n",
        "    # Input Tensor Shape: [batch_size, 28, 28, 32]\n",
        "    # Output Tensor Shape: [batch_size, 14, 14, 32]\n",
        "    pool1 = tf.layers.max_pooling2d(inputs=conv1, pool_size=[2, 2], strides=2)\n",
        "\n",
        "    # Convolutional Layer #2\n",
        "    # Computes 64 features using a 5x5 filter.\n",
        "    # Padding is added to preserve width and height.\n",
        "    # Input Tensor Shape: [batch_size, 14, 14, 32]\n",
        "    # Output Tensor Shape: [batch_size, 14, 14, 64]\n",
        "    conv2 = tf.layers.conv2d(\n",
        "        inputs=pool1,\n",
        "        filters=num_filt_2,\n",
        "        kernel_size=[5, 5],\n",
        "        padding=\"same\",\n",
        "        activation=tf.nn.relu)\n",
        "\n",
        "    # Max Pooling Layer #2\n",
        "    # Second max pooling layer with a 2x2 filter and stride of 2\n",
        "    # Input Tensor Shape: [batch_size, 14, 14, 64]\n",
        "    # Output Tensor Shape: [batch_size, 7, 7, 64]\n",
        "    pool2 = tf.layers.max_pooling2d(inputs=conv2, pool_size=[2, 2], strides=2)\n",
        "\n",
        "    # Flatten tensor into a batch of vectors\n",
        "    # Input Tensor Shape: [batch_size, 7, 7, 64]\n",
        "    # Output Tensor Shape: [batch_size, 7 * 7 * 64]\n",
        "    pool2_flat = tf.reshape(pool2, [-1, 7 * 7 * 64])\n",
        "\n",
        "    # Dense Layer\n",
        "    # Densely connected layer with 1024 neurons\n",
        "    # Input Tensor Shape: [batch_size, 7 * 7 * 64]\n",
        "    # Output Tensor Shape: [batch_size, 1024]\n",
        "    dense = tf.keras.layers.Dense(inputs=pool2_flat, units=1024, activation=tf.nn.relu)\n",
        "\n",
        "    # Add dropout operation; 0.6 probability that element will be kept\n",
        "    dropout = tf.layers.dropout(\n",
        "        inputs=dense, rate=dropout_rate, training=mode == tf.estimator.ModeKeys.TRAIN)\n",
        "\n",
        "    # Logits layer\n",
        "    # Input Tensor Shape: [batch_size, 1024]\n",
        "    # Output Tensor Shape: [batch_size, p_w]\n",
        "    logits = tf.keras.layers.Dense(inputs=dropout, units=p_w)\n",
        "\n",
        "    predictions = {\n",
        "        # Generate predictions (for PREDICT and EVAL mode)\n",
        "        \"classes\": tf.argmax(input=logits, axis=1),\n",
        "        # Add `softmax_tensor` to the graph. It is used for PREDICT and by the\n",
        "        # `logging_hook`.\n",
        "        \"probabilities\": tf.nn.softmax(logits, name=\"softmax_tensor\")\n",
        "    }\n",
        "  \n",
        "    if mode == tf.estimator.ModeKeys.PREDICT:\n",
        "        return tf.estimator.EstimatorSpec(mode=mode, predictions=predictions)\n",
        "\n",
        "    # Calculate Loss (for both TRAIN and EVAL modes)\n",
        "    onehot_labels = tf.one_hot(indices=tf.cast(labels, tf.int32), depth=10)\n",
        "    loss = tf.metrics.mean_absolute_error(\n",
        "        onehot_labels=onehot_labels, logits=logits)\n",
        "\n",
        "    # Configure the Training Op (for TRAIN mode)\n",
        "    if mode == tf.estimator.ModeKeys.TRAIN:\n",
        "      optimizer = tf.train.GradientDescentOptimizer(learning_rate=0.001)\n",
        "      train_op = optimizer.minimize(loss=loss, \n",
        "                                    global_step=tf.train.get_global_step())\n",
        "    return tf.estimator.EstimatorSpec(mode=mode, loss=loss, train_op=train_op)\n",
        "\n",
        "    # Add evaluation metrics (for EVAL mode)\n",
        "    eval_metric_ops = {\n",
        "        \"accuracy\": tf.metrics.accuracy(\n",
        "            labels=labels, predictions=predictions[\"classes\"])}\n",
        "    return tf.estimator.EstimatorSpec(\n",
        "        mode=mode, loss=loss, eval_metric_ops=eval_metric_ops)"
      ],
      "execution_count": 0,
      "outputs": []
    },
    {
      "cell_type": "code",
      "metadata": {
        "id": "nvKdPQytfrlZ",
        "colab_type": "code",
        "colab": {}
      },
      "source": [
        "def main(unused_argv):\n",
        "  # Load training and eval data\n",
        "  mnist = tf.contrib.learn.datasets.load_dataset(\"mnist\")\n",
        "  train_data = mnist.train.images  # Returns np.array\n",
        "  train_labels = np.asarray(mnist.train.labels, dtype=np.int32)\n",
        "  eval_data = mnist.test.images  # Returns np.array\n",
        "  eval_labels = np.asarray(mnist.test.labels, dtype=np.int32)\n",
        "\n",
        "  # Create the Estimator\n",
        "  DeepAnT_predictor = tf.estimator.Estimator(\n",
        "      model_fn=cnn_model_fn, model_dir=\"/tmp/DeepAnT_convnet_model\")\n",
        "\n",
        "  # Set up logging for predictions\n",
        "  # Log the values in the \"Softmax\" tensor with label \"probabilities\"\n",
        "  tensors_to_log = {\"probabilities\": \"softmax_tensor\"}\n",
        "  logging_hook = tf.train.LoggingTensorHook(\n",
        "      tensors=tensors_to_log, every_n_iter=50)\n",
        "\n",
        "  # Train the model\n",
        "  train_input_fn = tf.compat.v1.estimator.inputs.numpy_input_fn(\n",
        "      x={\"x\": train_data},\n",
        "      y=train_labels,\n",
        "      batch_size=100,\n",
        "      num_epochs=None,\n",
        "      shuffle=True)\n",
        "  mnist_classifier.train(\n",
        "      input_fn=train_input_fn,\n",
        "      steps=20000,\n",
        "      hooks=[logging_hook])\n",
        "\n",
        "  # Evaluate the model and print results\n",
        "  eval_input_fn = tf.compat.v1.estimator.inputs.numpy_input_fn(\n",
        "      x={\"x\": eval_data}, y=eval_labels, num_epochs=1, shuffle=False)\n",
        "  eval_results = mnist_classifier.evaluate(input_fn=eval_input_fn)\n",
        "  print(eval_results)\n",
        "\n",
        "\n",
        "if __name__ == \"__main__\":\n",
        "  tf.app.run()"
      ],
      "execution_count": 0,
      "outputs": []
    },
    {
      "cell_type": "code",
      "metadata": {
        "id": "1tPup-gjQSo6",
        "colab_type": "code",
        "colab": {}
      },
      "source": [
        "                      \"\"\"Test function\"\"\"\n",
        "  \"\"\" Perform an evaluation of `model` on the examples from `dataset`.\"\"\"\n",
        "def test(model, dataset, step_num):\n",
        "    avg_loss = metrics.Mean('loss', dtype=tf.float32)\n",
        "\n",
        "    for (images, labels) in dataset:\n",
        "        logits = model(images, training=False)\n",
        "        avg_loss(compute_loss(labels, logits))\n",
        "        compute_accuracy(labels, logits)\n",
        "\n",
        "    print('Model test set loss: {:0.4f} accuracy: {:0.2f}%'.format(\n",
        "        avg_loss.result(), compute_accuracy.result() * 100))\n",
        "\n",
        "    print('loss:', avg_loss.result(), 'acc:', compute_accuracy.result())\n",
        "    # summary_ops_v2.scalar('loss', avg_loss.result(), step=step_num)\n",
        "    # summary_ops_v2.scalar('accuracy', compute_accuracy.result(), step=step_num)\n",
        "\n",
        "\n",
        "# Where to save checkpoints, tensorboard summaries, etc.\n",
        "MODEL_DIR = '/tmp/tensorflow/mnist'"
      ],
      "execution_count": 0,
      "outputs": []
    },
    {
      "cell_type": "code",
      "metadata": {
        "id": "PUiolceHa5E-",
        "colab_type": "code",
        "colab": {}
      },
      "source": [
        "# Plot training and test loss\n",
        "t = np.arange(iteration-1)\n",
        "\n",
        "plt.figure(figsize = (6,6))\n",
        "plt.plot(t, np.array(train_loss), 'r-', t[t % 10 == 0], np.array(validation_loss), 'b*')\n",
        "plt.xlabel(\"iteration\")\n",
        "plt.ylabel(\"Loss\")\n",
        "plt.legend(['train', 'validation'], loc='upper right')\n",
        "plt.show()"
      ],
      "execution_count": 0,
      "outputs": []
    }
  ]
}